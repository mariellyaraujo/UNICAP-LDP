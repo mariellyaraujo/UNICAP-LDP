{
  "nbformat": 4,
  "nbformat_minor": 0,
  "metadata": {
    "colab": {
      "provenance": []
    },
    "kernelspec": {
      "name": "python3",
      "display_name": "Python 3"
    },
    "language_info": {
      "name": "python"
    }
  },
  "cells": [
    {
      "cell_type": "markdown",
      "source": [
        "---\n",
        "\n",
        "<h1 align=left><font size = 8, style=\"color:rgb(200,0,0)\"><b>ATIVIDADE: <BR> Dicionário</b></font></h1>\n",
        "\n",
        "---"
      ],
      "metadata": {
        "id": "w6OeGu4_K8ih"
      }
    },
    {
      "cell_type": "markdown",
      "source": [
        "**Questão 1**: Considere o dict armazem abaixo. Faça um programa que receba o nome do produto e mostre seu preço e estoque."
      ],
      "metadata": {
        "id": "b3RoFgmCXJVl"
      }
    },
    {
      "cell_type": "code",
      "source": [
        "armazem = {\n",
        "  'ALFACE': [100, 2.25],\n",
        "  'BROCÓLIS': [30, 4.09],\n",
        "  'COUVE': [50, 3.75],\n",
        "  'REPOLHO': [26, 1.25]\n",
        "}"
      ],
      "metadata": {
        "id": "Hs_KHARAdKkS"
      },
      "execution_count": 2,
      "outputs": []
    },
    {
      "cell_type": "code",
      "source": [
        "# Função para buscar produto\n",
        "def buscar_produto(nome_produto):\n",
        "    # Tenta obter o produto do dicionário 'armazem' usando o nome fornecido em letras maiúsculas\n",
        "    produto = armazem.get(nome_produto.upper())\n",
        "\n",
        "    # Verifica se o produto foi encontrado no dicionário\n",
        "    if produto:\n",
        "        # Desempacota o estoque e o preço do produto encontrado\n",
        "        estoque, preco = produto\n",
        "\n",
        "        # Imprime as informações do produto: nome, estoque e preço formatado\n",
        "        print(f'Produto: {nome_produto}\\nEstoque: {estoque}\\nPreço: R$ {preco:.2f}')\n",
        "    else:\n",
        "        # Se o produto não for encontrado, informa ao usuário\n",
        "        print('Produto não encontrado.')\n",
        "\n",
        "# Entrada do usuário\n",
        "# Solicita que o usuário digite o nome de um produto\n",
        "nome_produto = input('Digite o nome do produto: ')\n",
        "\n",
        "# Chama a função 'buscar_produto' passando o nome do produto informado pelo usuário\n",
        "buscar_produto(nome_produto)"
      ],
      "metadata": {
        "id": "lL4H53q6y7cb",
        "colab": {
          "base_uri": "https://localhost:8080/"
        },
        "outputId": "c5950e63-4a6f-4d87-c8dd-18b9fc98344e"
      },
      "execution_count": 3,
      "outputs": [
        {
          "output_type": "stream",
          "name": "stdout",
          "text": [
            "Digite o nome do produto: alface\n",
            "Produto: alface\n",
            "Estoque: 100\n",
            "Preço: R$ 2.25\n"
          ]
        }
      ]
    },
    {
      "cell_type": "markdown",
      "source": [
        "**Questão 2:** Crie um dicionário que armazene ano e sinopse de filmes. Use os nomes dos filmes como chaves. Depois faça um programa que receba do usuário o nome do filme e mostre os dados dele."
      ],
      "metadata": {
        "id": "SyJors0-eFBN"
      }
    },
    {
      "cell_type": "code",
      "source": [
        "# Dicionário que armazena informações sobre filmes\n",
        "filmes = {\n",
        "    'SUSPIRIA': [1977, \"An American newcomer to a prestigious German ballet academy comes to realize that the school is a front for something sinister amid a series of grisly murders.\"],\n",
        "    'KAMIKAZE GIRLS': [2004, \"Momoko is an ordinary girl, living an ordinary life. Ordinary, that is, if you define ordinary as wearing elaborate lolita dresses from the Rococo period in 18th Century France. However, when punk girl and self-styled ‘Yanki’ Ichiko comes calling, her days as ‘ordinary’ are most certainly numbered…\"],\n",
        "    'BOTTOMS': [2023, \"Unpopular best friends PJ and Josie start a high school self-defense club to meet girls and lose their virginity. They soon find themselves in over their heads when the most popular students start beating each other up in the name of self-defense.\"],\n",
        "    'POOR THINGS': [2023, \"Brought back to life by an unorthodox scientist, a young woman runs off with a lawyer on a whirlwind adventure across the continents. Free from the prejudices of her times, she grows steadfast in her purpose to stand for equality and liberation.\"],\n",
        "}\n",
        "\n",
        "# Função que busca informações de um filme dado seu nome\n",
        "def infoFilme(nome_filme):\n",
        "    # Tenta obter o filme do dicionário 'filmes' usando o nome em letras maiúsculas\n",
        "    filme = filmes.get(nome_filme.upper())\n",
        "\n",
        "    # Verifica se o filme foi encontrado no dicionário\n",
        "    if filme:\n",
        "        # Desempacota o ano e a sinopse do filme encontrado\n",
        "        ano, sinopse = filme\n",
        "\n",
        "        # Formatação da sinopse para um texto mais legível\n",
        "        sinopse_formatada = f\"{sinopse}\\n\"\n",
        "        # Quebra a sinopse em linhas de até 80 caracteres\n",
        "        sinopse_formatada = \"\\n\".join(sinopse_formatada[i:i+80] for i in range(0, len(sinopse_formatada), 80))\n",
        "\n",
        "        # Imprime as informações do filme: nome, ano e sinopse formatada\n",
        "        print(f'Filme: {nome_filme}\\nAno: {ano}\\nSinopse:\\n{sinopse_formatada}\\n')\n",
        "    else:\n",
        "        # Se o filme não for encontrado, informa ao usuário\n",
        "        print('Filme não encontrado.')\n",
        "\n",
        "# Função principal que executa o programa\n",
        "def main():\n",
        "    # Solicita que o usuário digite o nome de um filme\n",
        "    nome_filme = input('Digite o nome do filme: ')\n",
        "    # Chama a função 'infoFilme' passando o nome do filme informado pelo usuário\n",
        "    infoFilme(nome_filme)\n",
        "\n",
        "# Chama a função principal para iniciar o programa\n",
        "main()\n"
      ],
      "metadata": {
        "id": "04JcVyeogwA_",
        "colab": {
          "base_uri": "https://localhost:8080/"
        },
        "outputId": "f46f22a4-6a17-4c13-ab23-25a0ee00be0d"
      },
      "execution_count": 7,
      "outputs": [
        {
          "output_type": "stream",
          "name": "stdout",
          "text": [
            "Digite o nome do filme: suspiria\n",
            "Filme: suspiria\n",
            "Ano: 1977\n",
            "Sinopse:\n",
            "An American newcomer to a prestigious German ballet academy comes to realize tha\n",
            "t the school is a front for something sinister amid a series of grisly murders.\n",
            "\n",
            "\n"
          ]
        }
      ]
    },
    {
      "cell_type": "markdown",
      "source": [
        "**Questão 3:** Considere o dicionário abaixo com um quiz de perguntas e respostas. Crie um programa que faça todas as perguntas para o usuário e calcule a quantidade de respostas corretas."
      ],
      "metadata": {
        "id": "wOdGN8nonUi3"
      }
    },
    {
      "cell_type": "code",
      "source": [
        "perguntas = {\n",
        "      'Pergunta 1': {\n",
        "          'pergunta': 'Quanto é 2+2? ',\n",
        "          'respostas': {\n",
        "              'a': '1',\n",
        "              'b': '4',\n",
        "              'c': '5',\n",
        "          },\n",
        "          'resposta_certa': 'b',\n",
        "      },\n",
        "      'Pergunta 2': {\n",
        "          'pergunta': 'Quanto é 3x2? ',\n",
        "          'respostas': {\n",
        "              'a': '4',\n",
        "              'b': '101',\n",
        "              'c': '6',\n",
        "          },\n",
        "          'resposta_certa': 'c',\n",
        "      },\n",
        "      'Pergunta 3': {\n",
        "          'pergunta': 'Quanto é 6x2? ',\n",
        "          'respostas': {\n",
        "              'a': '4',\n",
        "              'b': '12',\n",
        "              'c': '6',\n",
        "          },\n",
        "          'resposta_certa': 'b',\n",
        "      },\n",
        "      'Pergunta 4': {\n",
        "          'pergunta': 'Quanto é 2+3? ',\n",
        "          'respostas': {\n",
        "              'a': '7',\n",
        "              'b': '5',\n",
        "              'c': '8',\n",
        "          },\n",
        "          'resposta_certa': 'b',\n",
        "      },\n",
        "      'Pergunta 5': {\n",
        "          'pergunta': 'Quanto é 5+13? ',\n",
        "          'respostas': {\n",
        "              'a': '18',\n",
        "              'b': '11',\n",
        "              'c': '8',\n",
        "          },\n",
        "          'resposta_certa': 'a',\n",
        "      },\n",
        "      'Pergunta 6': {\n",
        "          'pergunta': 'Quanto é 7x5? ',\n",
        "          'respostas': {\n",
        "              'a': '35',\n",
        "              'b': '38',\n",
        "              'c': '27',\n",
        "          },\n",
        "          'resposta_certa': 'a',\n",
        "      },\n",
        "      'Pergunta 7': {\n",
        "          'pergunta': 'Quanto é 6x4? ',\n",
        "          'respostas': {\n",
        "              'a': '43',\n",
        "              'b': '31',\n",
        "              'c': '24',\n",
        "          },\n",
        "          'resposta_certa': 'c',\n",
        "      },\n",
        "      'Pergunta 8': {\n",
        "          'pergunta': 'Quanto é 9x9? ',\n",
        "          'respostas': {\n",
        "              'a': '83',\n",
        "              'b': '131',\n",
        "              'c': '81',\n",
        "          },\n",
        "          'resposta_certa': 'c',\n",
        "      },\n",
        "      'Pergunta 9': {\n",
        "          'pergunta': 'Quanto é 4x4? ',\n",
        "          'respostas': {\n",
        "              'a': '16',\n",
        "              'b': '17',\n",
        "              'c': '12',\n",
        "          },\n",
        "          'resposta_certa': 'a',\n",
        "      },\n",
        "      'Pergunta 10': {\n",
        "          'pergunta': 'Quanto é 10x10? ',\n",
        "          'respostas': {\n",
        "              'a': '400',\n",
        "              'b': '100',\n",
        "              'c': '110',\n",
        "          },\n",
        "          'resposta_certa': 'b',\n",
        "      },\n",
        "  }"
      ],
      "metadata": {
        "id": "DzRQKk6onUvj"
      },
      "execution_count": 8,
      "outputs": []
    },
    {
      "cell_type": "code",
      "source": [
        "# Função que executa o quiz\n",
        "def quiz():\n",
        "    # Contador para rastrear o número de respostas corretas\n",
        "    counter = 0\n",
        "\n",
        "    # Loop através de cada pergunta no dicionário 'perguntas'\n",
        "    for chave, info in perguntas.items():\n",
        "        # Imprime a pergunta atual\n",
        "        print(info['pergunta'])\n",
        "\n",
        "        # Imprime as opções de resposta disponíveis\n",
        "        for letra, resposta in info['respostas'].items():\n",
        "            print(letra, \":\", resposta)\n",
        "\n",
        "        # Loop para garantir que a resposta do usuário seja válida\n",
        "        while True:\n",
        "            # Solicita a resposta do usuário e converte para minúsculas\n",
        "            userResp = input().lower()\n",
        "\n",
        "            # Verifica se a resposta está entre as opções válidas\n",
        "            if userResp == 'a' or userResp == 'b' or userResp == 'c':\n",
        "                # Verifica se a resposta do usuário está correta\n",
        "                if userResp == info['resposta_certa']:\n",
        "                    print('resposta correta!')  # Informa que a resposta está correta\n",
        "                    counter += 1  # Incrementa o contador de respostas corretas\n",
        "\n",
        "                else:\n",
        "                    print('errou kkk')  # Informa que a resposta está incorreta\n",
        "\n",
        "                break  # Sai do loop de entrada de resposta\n",
        "\n",
        "            else:\n",
        "                print('Resposta Inválida')  # Informa que a resposta fornecida é inválida\n",
        "\n",
        "    # Imprime o total de respostas corretas em relação ao número de perguntas\n",
        "    print(f'Você acertou {counter} de {len(perguntas)} perguntas.')\n",
        "\n",
        "# Função principal que executa o programa\n",
        "def main():\n",
        "    # Chama a função 'quiz' para iniciar o quiz\n",
        "    quiz()\n",
        "\n",
        "# Chama a função principal para iniciar o programa\n",
        "main()"
      ],
      "metadata": {
        "id": "ldizqPpbyy5k",
        "colab": {
          "base_uri": "https://localhost:8080/"
        },
        "outputId": "0a2f2493-7244-4d38-d035-63675b2d97c6"
      },
      "execution_count": 14,
      "outputs": [
        {
          "output_type": "stream",
          "name": "stdout",
          "text": [
            "Quanto é 2+2? \n",
            "a : 1\n",
            "b : 4\n",
            "c : 5\n",
            "6\n",
            "Resposta Inválida\n",
            "a\n",
            "errou kkk\n",
            "Quanto é 3x2? \n",
            "a : 4\n",
            "b : 101\n",
            "c : 6\n",
            "6\n",
            "Resposta Inválida\n",
            "c\n",
            "resposta correta!\n",
            "Quanto é 6x2? \n",
            "a : 4\n",
            "b : 12\n",
            "c : 6\n",
            "b\n",
            "resposta correta!\n",
            "Quanto é 2+3? \n",
            "a : 7\n",
            "b : 5\n",
            "c : 8\n",
            "b\n",
            "resposta correta!\n",
            "Quanto é 5+13? \n",
            "a : 18\n",
            "b : 11\n",
            "c : 8\n",
            "a\n",
            "resposta correta!\n",
            "Quanto é 7x5? \n",
            "a : 35\n",
            "b : 38\n",
            "c : 27\n",
            "a\n",
            "resposta correta!\n",
            "Quanto é 6x4? \n",
            "a : 43\n",
            "b : 31\n",
            "c : 24\n",
            "c\n",
            "resposta correta!\n",
            "Quanto é 9x9? \n",
            "a : 83\n",
            "b : 131\n",
            "c : 81\n",
            "c\n",
            "resposta correta!\n",
            "Quanto é 4x4? \n",
            "a : 16\n",
            "b : 17\n",
            "c : 12\n",
            "a\n",
            "resposta correta!\n",
            "Quanto é 10x10? \n",
            "a : 400\n",
            "b : 100\n",
            "c : 110\n",
            "bb\n",
            "Resposta Inválida\n",
            "b\n",
            "resposta correta!\n",
            "Você acertou 9 de 10 perguntas.\n"
          ]
        }
      ]
    }
  ]
}